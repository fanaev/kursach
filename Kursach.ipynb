{
 "cells": [
  {
   "cell_type": "code",
   "execution_count": null,
   "metadata": {
    "colab": {
     "base_uri": "https://localhost:8080/"
    },
    "id": "FZ4JEHYTSy2U",
    "outputId": "baf57a4c-4db4-4864-db06-8e234c8203ca"
   },
   "outputs": [
    {
     "name": "stderr",
     "output_type": "stream",
     "text": [
      "/usr/local/lib/python3.7/dist-packages/statsmodels/tools/_testing.py:19: FutureWarning: pandas.util.testing is deprecated. Use the functions in the public API at pandas.testing instead.\n",
      "  import pandas.util.testing as tm\n"
     ]
    }
   ],
   "source": [
    "import pandas as pd\n",
    "import numpy as np\n",
    "import scipy.stats as stats\n",
    "import matplotlib.pyplot as plt\n",
    "import seaborn as sns, numpy as np\n",
    "from statsmodels.graphics.gofplots import qqplot"
   ]
  },
  {
   "cell_type": "code",
   "execution_count": null,
   "metadata": {
    "id": "Ps9xITRe-TdR"
   },
   "outputs": [],
   "source": [
    "index = ['Сбербанк','Газпром','Лукойл','Роснефть','Татнефть']\n",
    "years = ['2015','2016','2017','2018','2019']\n",
    "data = [[] for i in range(len(index))]\n",
    "for i in range(len(years)):\n",
    "  for j in index: #добавляет в data выборку i-года, j-компании\n",
    "    data[i].append(np.log(pd.read_csv('Datasets/' + j+years[i]+'.csv',sep=';')['<CLOSE>']) - np.log(pd.read_csv('Datasets/' + j+years[i]+'.csv',sep=';')['<OPEN>']) )"
   ]
  },
  {
   "cell_type": "markdown",
   "metadata": {
    "id": "kITvsKuT-Dg4"
   },
   "source": [
    "## Предварительный анализ данных"
   ]
  },
  {
   "cell_type": "code",
   "execution_count": null,
   "metadata": {
    "id": "dz1LM-4t1gBk"
   },
   "outputs": [],
   "source": [
    "df_tickers = pd.DataFrame({'Компания':index,'Тикер':tickers})"
   ]
  },
  {
   "cell_type": "code",
   "execution_count": null,
   "metadata": {
    "colab": {
     "base_uri": "https://localhost:8080/",
     "height": 204
    },
    "id": "H6OLySRo1pH3",
    "outputId": "7a974f55-edbc-4b02-a325-d5c6f05deb72"
   },
   "outputs": [
    {
     "data": {
      "text/html": [
       "<div>\n",
       "<style scoped>\n",
       "    .dataframe tbody tr th:only-of-type {\n",
       "        vertical-align: middle;\n",
       "    }\n",
       "\n",
       "    .dataframe tbody tr th {\n",
       "        vertical-align: top;\n",
       "    }\n",
       "\n",
       "    .dataframe thead th {\n",
       "        text-align: right;\n",
       "    }\n",
       "</style>\n",
       "<table border=\"1\" class=\"dataframe\">\n",
       "  <thead>\n",
       "    <tr style=\"text-align: right;\">\n",
       "      <th></th>\n",
       "      <th>Компания</th>\n",
       "      <th>Тикер</th>\n",
       "    </tr>\n",
       "  </thead>\n",
       "  <tbody>\n",
       "    <tr>\n",
       "      <th>0</th>\n",
       "      <td>Сбербанк</td>\n",
       "      <td>SBER</td>\n",
       "    </tr>\n",
       "    <tr>\n",
       "      <th>1</th>\n",
       "      <td>Газпром</td>\n",
       "      <td>GAZP</td>\n",
       "    </tr>\n",
       "    <tr>\n",
       "      <th>2</th>\n",
       "      <td>Лукойл</td>\n",
       "      <td>LKOH</td>\n",
       "    </tr>\n",
       "    <tr>\n",
       "      <th>3</th>\n",
       "      <td>Роснефть</td>\n",
       "      <td>ROSN</td>\n",
       "    </tr>\n",
       "    <tr>\n",
       "      <th>4</th>\n",
       "      <td>Татнефть</td>\n",
       "      <td>TATN</td>\n",
       "    </tr>\n",
       "  </tbody>\n",
       "</table>\n",
       "</div>"
      ],
      "text/plain": [
       "   Компания Тикер\n",
       "0  Сбербанк  SBER\n",
       "1   Газпром  GAZP\n",
       "2    Лукойл  LKOH\n",
       "3  Роснефть  ROSN\n",
       "4  Татнефть  TATN"
      ]
     },
     "execution_count": 4,
     "metadata": {
      "tags": []
     },
     "output_type": "execute_result"
    }
   ],
   "source": [
    "df_tickers"
   ]
  },
  {
   "cell_type": "code",
   "execution_count": null,
   "metadata": {
    "id": "biIGvnsX-zCt"
   },
   "outputs": [],
   "source": [
    "def quantity(index, year):#расчет кол-ва пятиминуток для конкретного года\n",
    "  return list(map(lambda x: len(pd.read_csv('/content/drive/MyDrive/Курсовая/Datasets/'+x+year+'.csv',sep=';')['<CLOSE>']), index))\n",
    "def flat_map(data):\n",
    "  x = []\n",
    "  for i in range(len(data)):\n",
    "    for j in range(len(data[i])):\n",
    "      x.append(data[i][j])\n",
    "  return np.array(x)"
   ]
  },
  {
   "cell_type": "code",
   "execution_count": null,
   "metadata": {
    "id": "QF3w1ETH5S-a"
   },
   "outputs": [],
   "source": [
    "df_quantity = pd.DataFrame(index = index, columns = years)\n",
    "for i in years:\n",
    "  df_quantity[i] = quantity(index,i)"
   ]
  },
  {
   "cell_type": "code",
   "execution_count": null,
   "metadata": {
    "colab": {
     "base_uri": "https://localhost:8080/",
     "height": 204
    },
    "id": "cgaivtNJ-j_M",
    "outputId": "ebb8a88e-7e7f-4c2e-c2a9-5f437fe17b53"
   },
   "outputs": [
    {
     "data": {
      "text/html": [
       "<div>\n",
       "<style scoped>\n",
       "    .dataframe tbody tr th:only-of-type {\n",
       "        vertical-align: middle;\n",
       "    }\n",
       "\n",
       "    .dataframe tbody tr th {\n",
       "        vertical-align: top;\n",
       "    }\n",
       "\n",
       "    .dataframe thead th {\n",
       "        text-align: right;\n",
       "    }\n",
       "</style>\n",
       "<table border=\"1\" class=\"dataframe\">\n",
       "  <thead>\n",
       "    <tr style=\"text-align: right;\">\n",
       "      <th></th>\n",
       "      <th>2015</th>\n",
       "      <th>2016</th>\n",
       "      <th>2017</th>\n",
       "      <th>2018</th>\n",
       "      <th>2019</th>\n",
       "    </tr>\n",
       "  </thead>\n",
       "  <tbody>\n",
       "    <tr>\n",
       "      <th>Сбербанк</th>\n",
       "      <td>26221</td>\n",
       "      <td>26459</td>\n",
       "      <td>26451</td>\n",
       "      <td>26661</td>\n",
       "      <td>26460</td>\n",
       "    </tr>\n",
       "    <tr>\n",
       "      <th>Газпром</th>\n",
       "      <td>26220</td>\n",
       "      <td>26456</td>\n",
       "      <td>26451</td>\n",
       "      <td>26661</td>\n",
       "      <td>26460</td>\n",
       "    </tr>\n",
       "    <tr>\n",
       "      <th>Лукойл</th>\n",
       "      <td>26219</td>\n",
       "      <td>26451</td>\n",
       "      <td>26451</td>\n",
       "      <td>26660</td>\n",
       "      <td>26460</td>\n",
       "    </tr>\n",
       "    <tr>\n",
       "      <th>Роснефть</th>\n",
       "      <td>26213</td>\n",
       "      <td>26450</td>\n",
       "      <td>26443</td>\n",
       "      <td>26649</td>\n",
       "      <td>26459</td>\n",
       "    </tr>\n",
       "    <tr>\n",
       "      <th>Татнефть</th>\n",
       "      <td>26118</td>\n",
       "      <td>26328</td>\n",
       "      <td>26353</td>\n",
       "      <td>26616</td>\n",
       "      <td>26437</td>\n",
       "    </tr>\n",
       "  </tbody>\n",
       "</table>\n",
       "</div>"
      ],
      "text/plain": [
       "           2015   2016   2017   2018   2019\n",
       "Сбербанк  26221  26459  26451  26661  26460\n",
       "Газпром   26220  26456  26451  26661  26460\n",
       "Лукойл    26219  26451  26451  26660  26460\n",
       "Роснефть  26213  26450  26443  26649  26459\n",
       "Татнефть  26118  26328  26353  26616  26437"
      ]
     },
     "execution_count": 7,
     "metadata": {
      "tags": []
     },
     "output_type": "execute_result"
    }
   ],
   "source": [
    "df_quantity"
   ]
  },
  {
   "cell_type": "code",
   "execution_count": null,
   "metadata": {
    "colab": {
     "base_uri": "https://localhost:8080/",
     "height": 356
    },
    "id": "ONop5ucRw4gN",
    "outputId": "874c7945-7db9-4df7-8959-e5b494c41641"
   },
   "outputs": [
    {
     "data": {
      "image/png": "[encoded data removed]",
      "text/plain": [
       "<Figure size 1440x360 with 5 Axes>"
      ]
     },
     "metadata": {
      "tags": []
     },
     "output_type": "display_data"
    }
   ],
   "source": [
    "plt.style.use('seaborn')\n",
    "fig, axes = plt.subplots(1,5, figsize=(20,5))\n",
    "fig.suptitle('Гистограммы частот')\n",
    "for i in range(len(index)):\n",
    "  sns.histplot(flat_map(data[:][i]),bins=30,kde = True,ax=axes[i],stat = 'count', color='black')\n",
    "  axes[i].set_title(index[i])"
   ]
  },
  {
   "cell_type": "code",
   "execution_count": null,
   "metadata": {
    "id": "FaDIoA-ppSCy"
   },
   "outputs": [],
   "source": [
    "df_corr = pd.DataFrame(data = np.transpose([flat_map(data[:][0])[:130000],\n",
    "                                            flat_map(data[:][1])[:130000],\n",
    "                                            flat_map(data[:][2])[:130000],\n",
    "                                            flat_map(data[:][3])[:130000],\n",
    "                                            flat_map(data[:][4])[:130000]]), columns = index).corr()"
   ]
  },
  {
   "cell_type": "code",
   "execution_count": null,
   "metadata": {
    "colab": {
     "base_uri": "https://localhost:8080/",
     "height": 204
    },
    "id": "jybzZ_glUF0k",
    "outputId": "3f8e54d0-700f-45db-fe7e-dca431844d38"
   },
   "outputs": [
    {
     "data": {
      "text/html": [
       "<div>\n",
       "<style scoped>\n",
       "    .dataframe tbody tr th:only-of-type {\n",
       "        vertical-align: middle;\n",
       "    }\n",
       "\n",
       "    .dataframe tbody tr th {\n",
       "        vertical-align: top;\n",
       "    }\n",
       "\n",
       "    .dataframe thead th {\n",
       "        text-align: right;\n",
       "    }\n",
       "</style>\n",
       "<table border=\"1\" class=\"dataframe\">\n",
       "  <thead>\n",
       "    <tr style=\"text-align: right;\">\n",
       "      <th></th>\n",
       "      <th>Сбербанк</th>\n",
       "      <th>Газпром</th>\n",
       "      <th>Лукойл</th>\n",
       "      <th>Роснефть</th>\n",
       "      <th>Татнефть</th>\n",
       "    </tr>\n",
       "  </thead>\n",
       "  <tbody>\n",
       "    <tr>\n",
       "      <th>Сбербанк</th>\n",
       "      <td>1.000000</td>\n",
       "      <td>-0.004797</td>\n",
       "      <td>0.000203</td>\n",
       "      <td>0.000659</td>\n",
       "      <td>-0.001130</td>\n",
       "    </tr>\n",
       "    <tr>\n",
       "      <th>Газпром</th>\n",
       "      <td>-0.004797</td>\n",
       "      <td>1.000000</td>\n",
       "      <td>0.000463</td>\n",
       "      <td>-0.002475</td>\n",
       "      <td>0.004818</td>\n",
       "    </tr>\n",
       "    <tr>\n",
       "      <th>Лукойл</th>\n",
       "      <td>0.000203</td>\n",
       "      <td>0.000463</td>\n",
       "      <td>1.000000</td>\n",
       "      <td>0.002381</td>\n",
       "      <td>-0.000548</td>\n",
       "    </tr>\n",
       "    <tr>\n",
       "      <th>Роснефть</th>\n",
       "      <td>0.000659</td>\n",
       "      <td>-0.002475</td>\n",
       "      <td>0.002381</td>\n",
       "      <td>1.000000</td>\n",
       "      <td>-0.003878</td>\n",
       "    </tr>\n",
       "    <tr>\n",
       "      <th>Татнефть</th>\n",
       "      <td>-0.001130</td>\n",
       "      <td>0.004818</td>\n",
       "      <td>-0.000548</td>\n",
       "      <td>-0.003878</td>\n",
       "      <td>1.000000</td>\n",
       "    </tr>\n",
       "  </tbody>\n",
       "</table>\n",
       "</div>"
      ],
      "text/plain": [
       "          Сбербанк   Газпром    Лукойл  Роснефть  Татнефть\n",
       "Сбербанк  1.000000 -0.004797  0.000203  0.000659 -0.001130\n",
       "Газпром  -0.004797  1.000000  0.000463 -0.002475  0.004818\n",
       "Лукойл    0.000203  0.000463  1.000000  0.002381 -0.000548\n",
       "Роснефть  0.000659 -0.002475  0.002381  1.000000 -0.003878\n",
       "Татнефть -0.001130  0.004818 -0.000548 -0.003878  1.000000"
      ]
     },
     "execution_count": 26,
     "metadata": {
      "tags": []
     },
     "output_type": "execute_result"
    }
   ],
   "source": [
    "df_corr"
   ]
  },
  {
   "cell_type": "code",
   "execution_count": null,
   "metadata": {
    "colab": {
     "base_uri": "https://localhost:8080/",
     "height": 368
    },
    "id": "CyclpxAIq8n5",
    "outputId": "e0828422-dd5e-4168-cbb9-c6ee9004009b"
   },
   "outputs": [
    {
     "data": {
      "text/plain": [
       "<matplotlib.axes._subplots.AxesSubplot at 0x7fef1fde8250>"
      ]
     },
     "execution_count": 27,
     "metadata": {
      "tags": []
     },
     "output_type": "execute_result"
    },
    {
     "data": {
      "image/png": "[encoded data removed]",
      "text/plain": [
       "<Figure size 576x396 with 2 Axes>"
      ]
     },
     "metadata": {
      "tags": []
     },
     "output_type": "display_data"
    }
   ],
   "source": [
    "sns.heatmap(df_corr)"
   ]
  },
  {
   "cell_type": "code",
   "execution_count": null,
   "metadata": {
    "colab": {
     "base_uri": "https://localhost:8080/",
     "height": 296
    },
    "id": "03L3MbLlfRzL",
    "outputId": "a9969ef2-1989-44b7-824f-026442e3be69"
   },
   "outputs": [
    {
     "data": {
      "text/plain": [
       "<matplotlib.legend.Legend at 0x7fef21757b50>"
      ]
     },
     "execution_count": 11,
     "metadata": {
      "tags": []
     },
     "output_type": "execute_result"
    },
    {
     "data": {
      "image/png": "[encoded data removed]",
      "text/plain": [
       "<Figure size 432x288 with 1 Axes>"
      ]
     },
     "metadata": {
      "tags": []
     },
     "output_type": "display_data"
    }
   ],
   "source": [
    "plt.style.use('seaborn')\n",
    "fig, ax = plt.subplots(1, 1, figsize=(6, 4))\n",
    "for i in range(len(index)):\n",
    "  qqplot(flat_map(data[:][i]),  ax =ax, line='s',label = index[i])\n",
    "for i in range(0,len(index)-1):\n",
    "  ax.get_lines()[i+1].remove()\n",
    "  ax.get_lines()[i].set_markerfacecolor(f'C{i}')\n",
    "plt.legend()"
   ]
  },
  {
   "cell_type": "markdown",
   "metadata": {
    "id": "zrQa9gw4-D5e"
   },
   "source": [
    "## Проверка реальных данных"
   ]
  },
  {
   "cell_type": "code",
   "execution_count": null,
   "metadata": {
    "colab": {
     "base_uri": "https://localhost:8080/",
     "height": 88
    },
    "id": "7Bc5FPkrU7jb",
    "outputId": "ffbcca1f-03cb-40ab-8df6-4fd0683f2e18"
   },
   "outputs": [
    {
     "data": {
      "application/vnd.google.colaboratory.intrinsic+json": {
       "type": "string"
      },
      "text/plain": [
       "\"n = [30, 50,100,250, 500,750, 1000]\\ndf_test = pd.DataFrame(index = index)\\ndef f(data, n):#Считает для выборки объема n долю подтверждений нулевой гипотезы\\n  count = len(list(filter(lambda x: x>1e-5,map(lambda x: stats.shapiro(x)[1],np.random.choice(data, (25,n),replace=False)))))\\n  return  str(round(count*100/25,2)) + '%'\\nfor i in n:\\n  df_test[f'n = {i}'] = list(map(lambda x: f(x, i),data[0]))\\ndf_test\""
      ]
     },
     "execution_count": 12,
     "metadata": {
      "tags": []
     },
     "output_type": "execute_result"
    }
   ],
   "source": [
    "'''n = [30, 50,100,250, 500,750, 1000]\n",
    "df_test = pd.DataFrame(index = index)\n",
    "def f(data, n):#Считает для выборки объема n долю подтверждений нулевой гипотезы\n",
    "  count = len(list(filter(lambda x: x>1e-5,map(lambda x: stats.shapiro(x)[1],np.random.choice(data, (25,n),replace=False)))))\n",
    "  return  str(round(count*100/25,2)) + '%'\n",
    "for i in n:\n",
    "  df_test[f'n = {i}'] = list(map(lambda x: f(x, i),data[0]))\n",
    "df_test'''"
   ]
  },
  {
   "cell_type": "code",
   "execution_count": null,
   "metadata": {
    "colab": {
     "base_uri": "https://localhost:8080/",
     "height": 204
    },
    "id": "6EHrD8e307sv",
    "outputId": "b30f46f0-8380-447c-929c-6e507c0dadb3"
   },
   "outputs": [
    {
     "data": {
      "text/html": [
       "<div>\n",
       "<style scoped>\n",
       "    .dataframe tbody tr th:only-of-type {\n",
       "        vertical-align: middle;\n",
       "    }\n",
       "\n",
       "    .dataframe tbody tr th {\n",
       "        vertical-align: top;\n",
       "    }\n",
       "\n",
       "    .dataframe thead th {\n",
       "        text-align: right;\n",
       "    }\n",
       "</style>\n",
       "<table border=\"1\" class=\"dataframe\">\n",
       "  <thead>\n",
       "    <tr style=\"text-align: right;\">\n",
       "      <th></th>\n",
       "      <th>1</th>\n",
       "      <th>2</th>\n",
       "      <th>3</th>\n",
       "      <th>4</th>\n",
       "      <th>5</th>\n",
       "    </tr>\n",
       "  </thead>\n",
       "  <tbody>\n",
       "    <tr>\n",
       "      <th>1</th>\n",
       "      <td>1.000000</td>\n",
       "      <td>0.237923</td>\n",
       "      <td>-0.820357</td>\n",
       "      <td>0.858394</td>\n",
       "      <td>0.571969</td>\n",
       "    </tr>\n",
       "    <tr>\n",
       "      <th>2</th>\n",
       "      <td>0.237923</td>\n",
       "      <td>1.000000</td>\n",
       "      <td>-0.372787</td>\n",
       "      <td>-0.284652</td>\n",
       "      <td>-0.353862</td>\n",
       "    </tr>\n",
       "    <tr>\n",
       "      <th>3</th>\n",
       "      <td>-0.820357</td>\n",
       "      <td>-0.372787</td>\n",
       "      <td>1.000000</td>\n",
       "      <td>-0.561890</td>\n",
       "      <td>-0.078657</td>\n",
       "    </tr>\n",
       "    <tr>\n",
       "      <th>4</th>\n",
       "      <td>0.858394</td>\n",
       "      <td>-0.284652</td>\n",
       "      <td>-0.561890</td>\n",
       "      <td>1.000000</td>\n",
       "      <td>0.784157</td>\n",
       "    </tr>\n",
       "    <tr>\n",
       "      <th>5</th>\n",
       "      <td>0.571969</td>\n",
       "      <td>-0.353862</td>\n",
       "      <td>-0.078657</td>\n",
       "      <td>0.784157</td>\n",
       "      <td>1.000000</td>\n",
       "    </tr>\n",
       "  </tbody>\n",
       "</table>\n",
       "</div>"
      ],
      "text/plain": [
       "          1         2         3         4         5\n",
       "1  1.000000  0.237923 -0.820357  0.858394  0.571969\n",
       "2  0.237923  1.000000 -0.372787 -0.284652 -0.353862\n",
       "3 -0.820357 -0.372787  1.000000 -0.561890 -0.078657\n",
       "4  0.858394 -0.284652 -0.561890  1.000000  0.784157\n",
       "5  0.571969 -0.353862 -0.078657  0.784157  1.000000"
      ]
     },
     "execution_count": 13,
     "metadata": {
      "tags": []
     },
     "output_type": "execute_result"
    }
   ],
   "source": [
    "def f1(data):\n",
    "  return list(map(lambda x: stats.normaltest(x)[1], data))\n",
    "df_normal = pd.DataFrame(index =[1,2,3,4,5])\n",
    "for i in range(5):\n",
    "  df_normal[i+1] = f1(np.random.choice(stats.norm(i/2,2*i+1).rvs(130000),(5,20000),replace=False))\n",
    "df_normal.corr()"
   ]
  },
  {
   "cell_type": "code",
   "execution_count": null,
   "metadata": {
    "colab": {
     "base_uri": "https://localhost:8080/",
     "height": 204
    },
    "id": "XJNXfmMZY8kP",
    "outputId": "b217beae-92d3-41b8-ee54-44d1a7b73d1c"
   },
   "outputs": [
    {
     "data": {
      "text/html": [
       "<div>\n",
       "<style scoped>\n",
       "    .dataframe tbody tr th:only-of-type {\n",
       "        vertical-align: middle;\n",
       "    }\n",
       "\n",
       "    .dataframe tbody tr th {\n",
       "        vertical-align: top;\n",
       "    }\n",
       "\n",
       "    .dataframe thead th {\n",
       "        text-align: right;\n",
       "    }\n",
       "</style>\n",
       "<table border=\"1\" class=\"dataframe\">\n",
       "  <thead>\n",
       "    <tr style=\"text-align: right;\">\n",
       "      <th></th>\n",
       "      <th>2015</th>\n",
       "      <th>2016</th>\n",
       "      <th>2017</th>\n",
       "      <th>2018</th>\n",
       "      <th>2019</th>\n",
       "    </tr>\n",
       "  </thead>\n",
       "  <tbody>\n",
       "    <tr>\n",
       "      <th>Сбербанк</th>\n",
       "      <td>0.0</td>\n",
       "      <td>0.0</td>\n",
       "      <td>0.0</td>\n",
       "      <td>0.0</td>\n",
       "      <td>0.0</td>\n",
       "    </tr>\n",
       "    <tr>\n",
       "      <th>Газпром</th>\n",
       "      <td>0.0</td>\n",
       "      <td>0.0</td>\n",
       "      <td>0.0</td>\n",
       "      <td>0.0</td>\n",
       "      <td>0.0</td>\n",
       "    </tr>\n",
       "    <tr>\n",
       "      <th>Лукойл</th>\n",
       "      <td>0.0</td>\n",
       "      <td>0.0</td>\n",
       "      <td>0.0</td>\n",
       "      <td>0.0</td>\n",
       "      <td>0.0</td>\n",
       "    </tr>\n",
       "    <tr>\n",
       "      <th>Роснефть</th>\n",
       "      <td>0.0</td>\n",
       "      <td>0.0</td>\n",
       "      <td>0.0</td>\n",
       "      <td>0.0</td>\n",
       "      <td>0.0</td>\n",
       "    </tr>\n",
       "    <tr>\n",
       "      <th>Татнефть</th>\n",
       "      <td>0.0</td>\n",
       "      <td>0.0</td>\n",
       "      <td>0.0</td>\n",
       "      <td>0.0</td>\n",
       "      <td>0.0</td>\n",
       "    </tr>\n",
       "  </tbody>\n",
       "</table>\n",
       "</div>"
      ],
      "text/plain": [
       "          2015  2016  2017  2018  2019\n",
       "Сбербанк   0.0   0.0   0.0   0.0   0.0\n",
       "Газпром    0.0   0.0   0.0   0.0   0.0\n",
       "Лукойл     0.0   0.0   0.0   0.0   0.0\n",
       "Роснефть   0.0   0.0   0.0   0.0   0.0\n",
       "Татнефть   0.0   0.0   0.0   0.0   0.0"
      ]
     },
     "execution_count": 14,
     "metadata": {
      "tags": []
     },
     "output_type": "execute_result"
    }
   ],
   "source": [
    "df_test = pd.DataFrame(index = index)\n",
    "for i in range(len(years)):\n",
    "  df_test[years[i]] = f1(data[i])\n",
    "df_test"
   ]
  },
  {
   "cell_type": "code",
   "execution_count": null,
   "metadata": {
    "colab": {
     "base_uri": "https://localhost:8080/",
     "height": 184
    },
    "id": "_AtqEiZe50DH",
    "outputId": "060ad481-9205-4842-ec85-151f09af3b11"
   },
   "outputs": [
    {
     "ename": "SyntaxError",
     "evalue": "ignored",
     "output_type": "error",
     "traceback": [
      "\u001b[0;36m  File \u001b[0;32m\"<ipython-input-15-baa5bd7ceedf>\"\u001b[0;36m, line \u001b[0;32m6\u001b[0m\n\u001b[0;31m    data[i].append(np.log(pd.read_csv('Datasets/' + j+years[i]+'.csv',sep=';')['<CLOSE>']) - np.log(pd.read_csv('Datasets/' + j+years[i]+'.csv',sep=';')['<OPEN>']) )\u001b[0m\n\u001b[0m                                                                                                                                                                     \n^\u001b[0m\n\u001b[0;31mSyntaxError\u001b[0m\u001b[0;31m:\u001b[0m EOF while scanning triple-quoted string literal\n"
     ]
    }
   ],
   "source": [
    "'''index = ['Сбербанк','Газпром','Лукойл','Роснефть','Татнефть']\n",
    "years = ['2015','2016','2017','2018','2019']\n",
    "data = [[] for i in range(len(index))]\n",
    "for i in range(len(years)):\n",
    "  for j in index: #добавляет в data выборку i-года, j-компании\n",
    "    data[i].append(np.log(pd.read_csv('Datasets/' + j+years[i]+'.csv',sep=';')['<CLOSE>']) - np.log(pd.read_csv('Datasets/' + j+years[i]+'.csv',sep=';')['<OPEN>']) )'''"
   ]
  }
 ],
 "metadata": {
  "accelerator": "GPU",
  "colab": {
   "collapsed_sections": [],
   "name": "Kursach.ipynb",
   "provenance": [],
   "toc_visible": true
  },
  "kernelspec": {
   "display_name": "Python 3",
   "language": "python",
   "name": "python3"
  },
  "language_info": {
   "codemirror_mode": {
    "name": "ipython",
    "version": 3
   },
   "file_extension": ".py",
   "mimetype": "text/x-python",
   "name": "python",
   "nbconvert_exporter": "python",
   "pygments_lexer": "ipython3",
   "version": "3.7.6"
  }
 },
 "nbformat": 4,
 "nbformat_minor": 4
}
